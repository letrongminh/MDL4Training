{
  "nbformat": 4,
  "nbformat_minor": 0,
  "metadata": {
    "colab": {
      "name": "implement Simply Dense Layer.ipynb",
      "provenance": [],
      "authorship_tag": "ABX9TyNulnjy7sjQQO/GqqTLbBxw",
      "include_colab_link": true
    },
    "kernelspec": {
      "name": "python3",
      "display_name": "Python 3"
    },
    "language_info": {
      "name": "python"
    }
  },
  "cells": [
    {
      "cell_type": "markdown",
      "metadata": {
        "id": "view-in-github",
        "colab_type": "text"
      },
      "source": [
        "<a href=\"https://colab.research.google.com/github/letrongminh/MDL4Training/blob/main/implement_Simply_Dense_Layer.ipynb\" target=\"_parent\"><img src=\"https://colab.research.google.com/assets/colab-badge.svg\" alt=\"Open In Colab\"/></a>"
      ]
    },
    {
      "cell_type": "markdown",
      "metadata": {
        "id": "EsV-x-PMSIRx"
      },
      "source": [
        "# Tạo một class mô tả behavior of Dense Layer. \n",
        "X => Dense[stage, computation] => y "
      ]
    },
    {
      "cell_type": "code",
      "metadata": {
        "id": "zcNPapX-Sy9k"
      },
      "source": [
        "import tensorflow as tf\n",
        "from tensorflow.keras.layers import Layer"
      ],
      "execution_count": null,
      "outputs": []
    },
    {
      "cell_type": "code",
      "metadata": {
        "colab": {
          "base_uri": "https://localhost:8080/"
        },
        "id": "I3BnPfq3WOgD",
        "outputId": "2e15ac7c-8435-478a-f35c-c08f7abba12d"
      },
      "source": [
        "my_dense = dense_layer(units=1)\n",
        "x = tf.ones((1, 1))\n",
        "y = my_dense(x)\n",
        "\n",
        "print(dense_layer.variables)"
      ],
      "execution_count": null,
      "outputs": [
        {
          "output_type": "stream",
          "name": "stdout",
          "text": [
            "<property object at 0x7f6ea57dd410>\n"
          ]
        }
      ]
    },
    {
      "cell_type": "code",
      "metadata": {
        "id": "zb1KH7AZSzLY"
      },
      "source": [
        "class dense_layer(Layer):\n",
        "  def __init__(self, units=32):\n",
        "    '''Initializes the instance attributes'''\n",
        "    super(dense_layer, self).__init__()\n",
        "    # super().__init__() vẫn cho kết quả tương đương vì super() \n",
        "    # make sure that your initialization is moving up the inheritance chain.\n",
        "    self.units = units\n",
        "  \n",
        "  def build(self, input_shape):\n",
        "    # random initialize the weights\n",
        "    '''Khởi tạo giáo trị weight random với chuẩn normalnormal'''\n",
        "    w_init = tf.random_normal_initializer()\n",
        "    self.w = tf.Variable(name=\"kernel\",\n",
        "                              initial_value=w_init(shape=(input_shape[-1], self.units), dtype='float32'),\n",
        "                              trainable=True)\n",
        "    # random initialize the biases\n",
        "    '''Khởi tạo giáo trị bias từ 00'''\n",
        "    bias_init = tf.zeros_initializer()\n",
        "    self.bias = tf.Variable(name=\"bias\",\n",
        "                              initial_value = bias_init(shape=(self.units,), dtype='float32'),\n",
        "                              trainable=True)\n",
        "    \n",
        "  '''Defines the computation from inputs to outputs'''\n",
        "  '''tf.matmul tính tích chập giữa 2 matrix'''\n",
        "  def call(self, input):\n",
        "    return tf.matmul(input, self.w) + self.bias"
      ],
      "execution_count": null,
      "outputs": []
    },
    {
      "cell_type": "code",
      "metadata": {
        "colab": {
          "base_uri": "https://localhost:8080/"
        },
        "id": "EYQ02dmDWrEi",
        "outputId": "39be087e-5c3a-49d0-e901-d0ed8057e507"
      },
      "source": [
        "# define the dataset\n",
        "import numpy as np\n",
        "\n",
        "xs = np.array([-1.0,  0.0, 1.0, 2.0, 3.0, 4.0], dtype=float)\n",
        "ys = np.array([-3.0, -1.0, 1.0, 3.0, 5.0, 7.0], dtype=float)\n",
        "\n",
        "\n",
        "# use the Sequential API to build a model with our custom layer\n",
        "my_layer = dense_layer(units=1)\n",
        "model = tf.keras.Sequential([my_layer])\n",
        "\n",
        "# configure and train the model\n",
        "model.compile(optimizer='sgd', loss='mean_squared_error')\n",
        "model.fit(xs, ys, epochs=1000, verbose=0)\n",
        "\n",
        "# perform inference\n",
        "print(model.predict([10.0]))\n",
        "\n",
        "# see the updated state of the variables\n",
        "print(my_layer.variables)"
      ],
      "execution_count": null,
      "outputs": [
        {
          "output_type": "stream",
          "name": "stdout",
          "text": [
            "[[18.999893]]\n",
            "[<tf.Variable 'dense_layer_25/kernel:0' shape=(1, 1) dtype=float32, numpy=array([[1.9999847]], dtype=float32)>, <tf.Variable 'dense_layer_25/bias:0' shape=(1,) dtype=float32, numpy=array([-0.9999534], dtype=float32)>]\n"
          ]
        }
      ]
    }
  ]
}