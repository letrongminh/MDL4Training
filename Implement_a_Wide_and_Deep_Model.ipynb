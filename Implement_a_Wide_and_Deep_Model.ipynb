{
  "nbformat": 4,
  "nbformat_minor": 0,
  "metadata": {
    "colab": {
      "name": "Implement a Wide and Deep Model.ipynb",
      "provenance": [],
      "authorship_tag": "ABX9TyNIrzfgdivNnfk8i2jLDmxk",
      "include_colab_link": true
    },
    "kernelspec": {
      "name": "python3",
      "display_name": "Python 3"
    },
    "language_info": {
      "name": "python"
    }
  },
  "cells": [
    {
      "cell_type": "markdown",
      "metadata": {
        "id": "view-in-github",
        "colab_type": "text"
      },
      "source": [
        "<a href=\"https://colab.research.google.com/github/letrongminh/MDL4Training/blob/main/Implement_a_Wide_and_Deep_Model.ipynb\" target=\"_parent\"><img src=\"https://colab.research.google.com/assets/colab-badge.svg\" alt=\"Open In Colab\"/></a>"
      ]
    },
    {
      "cell_type": "code",
      "metadata": {
        "id": "uBpmuW175wg3"
      },
      "source": [
        "import tensorflow as tf\n",
        "from tensorflow.keras.layers import Dense, Input, concatenate\n",
        "from tensorflow.keras import Model\n",
        "from tensorflow.keras.utils import plot_model"
      ],
      "execution_count": 4,
      "outputs": []
    },
    {
      "cell_type": "markdown",
      "metadata": {
        "id": "c_SA3qXf_Mf7"
      },
      "source": [
        "# Model"
      ]
    },
    {
      "cell_type": "code",
      "metadata": {
        "colab": {
          "base_uri": "https://localhost:8080/",
          "height": 466
        },
        "id": "UPQRJ9SI78AP",
        "outputId": "caffd743-fa88-48f2-8749-2c9e29fa25d7"
      },
      "source": [
        "input_a = Input(shape=[1], name=\"Deep_input\")\n",
        "input_b = Input(shape=[1], name=\"Wide_input\")\n",
        "\n",
        "\n",
        "# deep path\n",
        "hidden_1 = Dense(30, activation='relu')(input_a)\n",
        "hidden_2 = Dense(30, activation='relu')(hidden_1)\n",
        "\n",
        "# merged path\n",
        "concat = concatenate([input_b, hidden_2])\n",
        "\n",
        "# outputs\n",
        "# output after concatenation\n",
        "output_1 = Dense(1, name='output_after_concatenate')(concat)\n",
        "\n",
        "# output just for deep path\n",
        "output_2 = Dense(1, name='output_for_deep_path')(hidden_2)\n",
        "\n",
        "model = Model(inputs = [input_a, input_b], outputs = [output_1, output_2])\n",
        "\n",
        "plot_model(model)"
      ],
      "execution_count": 11,
      "outputs": [
        {
          "output_type": "execute_result",
          "data": {
            "image/png": "[encoded data removed]",
            "text/plain": [
              "<IPython.core.display.Image object>"
            ]
          },
          "metadata": {},
          "execution_count": 11
        }
      ]
    },
    {
      "cell_type": "markdown",
      "metadata": {
        "id": "M9fbpp5F_Q_b"
      },
      "source": [
        "# Implement as a Class"
      ]
    },
    {
      "cell_type": "code",
      "metadata": {
        "id": "VQHfhxmP_V1C"
      },
      "source": [
        "class Wide_and_Deep_model(Model):\n",
        "  def __init__(self, units = 30, activation = 'relu', **kwargs):\n",
        "    super().__init__(**kwargs)\n",
        "    self.units = units\n",
        "    self.activation = activation\n",
        "    self.hidden_1 = Dense(units, activation=activation)\n",
        "    self.hidden_2 = Dense(units, activation=activation)\n",
        "    self.output_1 = Dense(1)\n",
        "    self.output_2 = Dense(1)\n",
        "\n",
        "  def call(self, inputs):\n",
        "    input_a, input_b = inputs\n",
        "    hidden_1 = self.hidden_1(input_a)\n",
        "    hidden_2 = self.hidden_2(hidden_1)\n",
        "\n",
        "    concat = concatenate([input_b, hidden_2])\n",
        "\n",
        "    output_1 = self.output_1(concat)\n",
        "    output_2 = self.putput_2(hidden_2)\n",
        "\n",
        "    return output_1, output_2\n"
      ],
      "execution_count": 14,
      "outputs": []
    },
    {
      "cell_type": "code",
      "metadata": {
        "id": "xB4F9BrEBR4q"
      },
      "source": [
        "model = Wide_and_Deep_model()"
      ],
      "execution_count": 15,
      "outputs": []
    }
  ]
}