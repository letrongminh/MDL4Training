{
  "nbformat": 4,
  "nbformat_minor": 0,
  "metadata": {
    "colab": {
      "name": "ResNet.ipynb",
      "provenance": [],
      "authorship_tag": "ABX9TyPcR4LT2o3Bb5LoVEWbMc3B",
      "include_colab_link": true
    },
    "kernelspec": {
      "name": "python3",
      "display_name": "Python 3"
    },
    "language_info": {
      "name": "python"
    },
    "accelerator": "GPU"
  },
  "cells": [
    {
      "cell_type": "markdown",
      "metadata": {
        "id": "view-in-github",
        "colab_type": "text"
      },
      "source": [
        "<a href=\"https://colab.research.google.com/github/letrongminh/MDL4Training/blob/main/ResNet.ipynb\" target=\"_parent\"><img src=\"https://colab.research.google.com/assets/colab-badge.svg\" alt=\"Open In Colab\"/></a>"
      ]
    },
    {
      "cell_type": "code",
      "metadata": {
        "id": "itfXphJODFV5"
      },
      "source": [
        "import tensorflow as tf\n",
        "from tensorflow.keras.layers import Dense, Input, Conv2D, BatchNormalization, Activation, Add, MaxPool2D\n",
        "from tensorflow.keras import Model"
      ],
      "execution_count": 1,
      "outputs": []
    },
    {
      "cell_type": "markdown",
      "metadata": {
        "id": "V2bRI18roCWP"
      },
      "source": [
        "# **Định nghĩa và khởi tạo Residual Block**"
      ]
    },
    {
      "cell_type": "code",
      "metadata": {
        "id": "IdvftUhEoAol"
      },
      "source": [
        "class Identify_block(Model):\n",
        "  def __init__(self, filters, kernel_size):\n",
        "    super(Identify_block, self).__init__(name = '')\n",
        "\n",
        "    self.conv_1 = Conv2D(filters, kernel_size, padding='same')\n",
        "    self.batch_norm_1 = BatchNormalization()\n",
        "    \n",
        "    self.conv_2 = Conv2D(filters, kernel_size, padding='same')\n",
        "    self.batch_norm_2 = BatchNormalization()\n",
        "\n",
        "    self.activation = Activation('relu')\n",
        "\n",
        "    # Add() - nhận đầu vào là các tensor có cùng chiều, trả về một tensor có cùng chiều\n",
        "    self.add_layer = Add()\n",
        "\n",
        "  def call(self, input_tensors):\n",
        "    x = self.conv_1(input_tensors)\n",
        "    x = self.batch_norm_1(x)\n",
        "    x = self.activation(x)\n",
        "\n",
        "    x = self.conv_2(x)\n",
        "    x = self.batch_norm_2(x)\n",
        "    \n",
        "    x = self.add_layer([x, input_tensors])\n",
        "    x = self.activation(x)\n",
        "\n",
        "    return x"
      ],
      "execution_count": 2,
      "outputs": []
    },
    {
      "cell_type": "markdown",
      "metadata": {
        "id": "dRkhx4MJruXX"
      },
      "source": [
        "# **Xây dựng model ResNet**\n",
        "**sử dụng lại Residual Bock đã tạo**"
      ]
    },
    {
      "cell_type": "code",
      "metadata": {
        "id": "ZauMF5C7rtuP"
      },
      "source": [
        "class ResNet(Model):\n",
        "  def __init__(self, number_classes):\n",
        "    super(ResNet, self).__init__()\n",
        "    self.conv = Conv2D(64, 7, padding='same')\n",
        "    self.batch_norm = BatchNormalization()\n",
        "    self.activation = Activation('relu')\n",
        "    self.max_pool = MaxPool2D((3, 3))\n",
        "\n",
        "    # Use Identify Block\n",
        "    self.identify_1 = Identify_block(64, 3)\n",
        "    self.identify_2 = Identify_block(64, 3)\n",
        "\n",
        "    self.global_pool = tf.keras.layers.GlobalAveragePooling2D()\n",
        "    self.classifier = Dense(number_classes, activation='softmax')\n",
        "    \n",
        "  def call(self, inputs):\n",
        "    x = self.conv(inputs)\n",
        "    x = self.batch_norm(x)\n",
        "    x = self.activation(x)\n",
        "    x = self.max_pool(x)\n",
        "\n",
        "    # block = indentify block\n",
        "    x = self.identify_1(x)\n",
        "    x = self.identify_2(x)\n",
        "\n",
        "    x = self.global_pool(x)\n",
        "    \n",
        "    return self.classifier(x)"
      ],
      "execution_count": 3,
      "outputs": []
    },
    {
      "cell_type": "markdown",
      "metadata": {
        "id": "baWOvvGvwzal"
      },
      "source": [
        "**Training**"
      ]
    },
    {
      "cell_type": "code",
      "metadata": {
        "colab": {
          "base_uri": "https://localhost:8080/"
        },
        "id": "4XZPywoBwvD1",
        "outputId": "be5ccde1-22be-40fe-90aa-19e0039ea519"
      },
      "source": [
        "import tensorflow_datasets as tfds\n",
        "\n",
        "def preprocess(features):\n",
        "    return tf.cast(features['image'], tf.float32) / 255., features['label']\n",
        "    \n",
        "# load and preprocess the dataset\n",
        "dataset = tfds.load('mnist', split=tfds.Split.TRAIN, data_dir='./data')\n",
        "dataset = dataset.map(preprocess).batch(32)\n",
        "\n",
        "\n",
        "\n",
        "# Tune for loss, optimizer\n",
        "resnet = ResNet(10)\n",
        "resnet.compile(optimizer='SGD', loss='sparse_categorical_crossentropy', metrics='accuracy')\n",
        "\n",
        "\n",
        "\n",
        "# train the model.\n",
        "resnet.fit(dataset, epochs=10)"
      ],
      "execution_count": 4,
      "outputs": [
        {
          "output_type": "stream",
          "name": "stdout",
          "text": [
            "Epoch 1/10\n",
            "1875/1875 [==============================] - 27s 13ms/step - loss: 0.3365 - accuracy: 0.9293\n",
            "Epoch 2/10\n",
            "1875/1875 [==============================] - 18s 9ms/step - loss: 0.0969 - accuracy: 0.9763\n",
            "Epoch 3/10\n",
            "1875/1875 [==============================] - 18s 10ms/step - loss: 0.0690 - accuracy: 0.9825\n",
            "Epoch 4/10\n",
            "1875/1875 [==============================] - 18s 9ms/step - loss: 0.0548 - accuracy: 0.9862\n",
            "Epoch 5/10\n",
            "1875/1875 [==============================] - 18s 9ms/step - loss: 0.0456 - accuracy: 0.9883\n",
            "Epoch 6/10\n",
            "1875/1875 [==============================] - 18s 10ms/step - loss: 0.0390 - accuracy: 0.9900\n",
            "Epoch 7/10\n",
            "1875/1875 [==============================] - 18s 9ms/step - loss: 0.0339 - accuracy: 0.9916\n",
            "Epoch 8/10\n",
            "1875/1875 [==============================] - 18s 9ms/step - loss: 0.0299 - accuracy: 0.9927\n",
            "Epoch 9/10\n",
            "1875/1875 [==============================] - 18s 9ms/step - loss: 0.0264 - accuracy: 0.9939\n",
            "Epoch 10/10\n",
            "1875/1875 [==============================] - 18s 10ms/step - loss: 0.0235 - accuracy: 0.9948\n"
          ]
        },
        {
          "output_type": "execute_result",
          "data": {
            "text/plain": [
              "<keras.callbacks.History at 0x7f862022cf90>"
            ]
          },
          "metadata": {},
          "execution_count": 4
        }
      ]
    }
  ]
}